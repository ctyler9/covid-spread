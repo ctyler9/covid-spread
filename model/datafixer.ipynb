{
 "cells": [
  {
   "cell_type": "code",
   "execution_count": 1,
   "metadata": {},
   "outputs": [],
   "source": [
    "import csv, pandas as pd, numpy as np"
   ]
  },
  {
   "cell_type": "code",
   "execution_count": 2,
   "metadata": {},
   "outputs": [],
   "source": [
    "def fixer(filename_list):\n",
    "    \n",
    "    df1 = pd.read_csv('../data/{0}'.format(filename_list[0]))\n",
    "    if len(filename_list) > 1:\n",
    "        for file in filename_list[1:]:\n",
    "            new_df = pd.read_csv('../data/{0}'.format(file))\n",
    "            df1 = pd.concat([df1, new_df])\n",
    "    \n",
    "    data = df1.reset_index()\n",
    "    data = data.fillna(0)\n",
    "    del data['index']\n",
    "            \n",
    "    mapper = pd.read_csv(\"../data/case_data.csv\")\n",
    "    \n",
    "    del data['Unnamed: 0']\n",
    "    data.set_index(\"county\")\n",
    "    \n",
    "    data2 = pd.melt(data, id_vars=['county'])\n",
    "    data3 = data2.rename(columns={'variable':'date', 'county':'FIPS', 'value':'cases'})\n",
    "    data3['FIPS'] = data3['FIPS'].apply(lambda x: str(x) if len(str(x)) == 5 else str(x))\n",
    "    data4 = data3\n",
    "    mapper['FIPS'] = mapper['FIPS'].apply(lambda x: str(x).split(\".\")[0])\n",
    "    data4 = data4.merge(mapper, on='FIPS')\n",
    "    \n",
    "    del data4['Country_Region']\n",
    "    del data4['Last_Update']\n",
    "    del data4['Lat']\n",
    "    del data4['Long_']\n",
    "    del data4['Confirmed']\n",
    "    del data4['Deaths']\n",
    "    del data4['Recovered']\n",
    "    del data4['Active']\n",
    "    del data4['Combined_Key']\n",
    "    \n",
    "    data5 = data4.sort_values('date')\n",
    "    data5 = data5.rename(columns={'FIPS':'fips', 'Admin2':'county', 'Province_State':'state'})\n",
    "    ir = filename_list[0].split(\"_\")[2]\n",
    "    rr = filename_list[0].split(\"_\")[3]\n",
    "    \n",
    "    #get historical data from nyt\n",
    "    historical_data = pd.read_csv(\"https://raw.githubusercontent.com/nytimes/covid-19-data/master/us-counties.csv\")\n",
    "    del historical_data['deaths']\n",
    "    #print(historical_data['state'].unique())\n",
    "    #format fips correctly\n",
    "    #historical_data['fips'] = historical_data['fips'].apply(lambda x: str(x) if len(str(x)) == 5 else \"0\"+str(x))\n",
    "    historical_data['fips'] = historical_data['fips'].apply(lambda x: str(x).split(\".\")[0])\n",
    "    #only include the fips ids we're looking at for this viz\n",
    "    historical_data = historical_data.loc[historical_data['fips'].isin(list(data5['fips']))]\n",
    "    historical_data.reset_index()\n",
    "    indexNames = historical_data[ historical_data['fips'] == 'nan' ].index\n",
    "    historical_data.drop(indexNames, inplace=True)\n",
    "    #filter dates by after a date\n",
    "    historical_data.sort_values('date')\n",
    "    historical_data['date'] = pd.to_datetime(historical_data['date'])\n",
    "    historical_data = historical_data[(historical_data[\"date\"] >= '2020-04-18') & (historical_data[\"date\"] <= '2020-04-21')]\n",
    "    historical_data['date'] = historical_data['date'].apply(lambda x: str(x).split(\" \")[0]) \n",
    "    #decrease cases by factor of 1000 in order to match our predicted data\n",
    "    historical_data['cases'] = historical_data['cases'].apply(lambda x: x/1000)\n",
    "    #compile together\n",
    "    data6 = pd.concat([historical_data,data5], ignore_index=True)\n",
    "    data6.sort_values(by=['date'])\n",
    "    data6['fips'] = data6['fips'].apply(lambda x: \"0\" + x if len(x) < 5 else x)\n",
    "    \n",
    "    data6.to_csv(\"../data/combined_{0}_{1}\".format(ir, rr))"
   ]
  },
  {
   "cell_type": "code",
   "execution_count": 3,
   "metadata": {},
   "outputs": [
    {
     "name": "stderr",
     "output_type": "stream",
     "text": [
      "/Users/Elise/anaconda3/lib/python3.7/site-packages/ipykernel_launcher.py:7: FutureWarning: Sorting because non-concatenation axis is not aligned. A future version\n",
      "of pandas will change to not sort by default.\n",
      "\n",
      "To accept the future behavior, pass 'sort=False'.\n",
      "\n",
      "To retain the current behavior and silence the warning, pass 'sort=True'.\n",
      "\n",
      "  import sys\n",
      "/Users/Elise/anaconda3/lib/python3.7/site-packages/ipykernel_launcher.py:60: FutureWarning: Sorting because non-concatenation axis is not aligned. A future version\n",
      "of pandas will change to not sort by default.\n",
      "\n",
      "To accept the future behavior, pass 'sort=False'.\n",
      "\n",
      "To retain the current behavior and silence the warning, pass 'sort=True'.\n",
      "\n"
     ]
    }
   ],
   "source": [
    "tester_full = [\"output_Connecticut_0.001_0.06.csv\",\"output_Maine_0.001_0.06.csv\", \"output_Vermont_0.001_0.06.csv\", \"output_New Hampshire_0.001_0.06.csv\", \"output_Rhode Island_0.001_0.06.csv\"]\n",
    "tester_mini = [\"output_Maine_0.001_0.06.csv\", \"output_Vermont_0.001_0.06.csv\"]\n",
    "fixer(tester_full)"
   ]
  }
 ],
 "metadata": {
  "kernelspec": {
   "display_name": "Python 3",
   "language": "python",
   "name": "python3"
  },
  "language_info": {
   "codemirror_mode": {
    "name": "ipython",
    "version": 3
   },
   "file_extension": ".py",
   "mimetype": "text/x-python",
   "name": "python",
   "nbconvert_exporter": "python",
   "pygments_lexer": "ipython3",
   "version": "3.7.4"
  }
 },
 "nbformat": 4,
 "nbformat_minor": 2
}
